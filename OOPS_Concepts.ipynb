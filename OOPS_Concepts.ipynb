{
  "nbformat": 4,
  "nbformat_minor": 0,
  "metadata": {
    "colab": {
      "provenance": []
    },
    "kernelspec": {
      "name": "python3",
      "display_name": "Python 3"
    },
    "language_info": {
      "name": "python"
    }
  },
  "cells": [
    {
      "cell_type": "markdown",
      "source": [
        "Creating a Class.........1st letter in the class name shud be caps\n",
        "\n",
        "Class is a blueprint for creating objects which tells us what all features an object shud have. Class is a collection of attributes/properties and methods/functions."
      ],
      "metadata": {
        "id": "tdxCfCQVelEa"
      }
    },
    {
      "cell_type": "code",
      "execution_count": null,
      "metadata": {
        "id": "ppFGkPWJegj-"
      },
      "outputs": [],
      "source": [
        "class ClassName():\n",
        "  def __init__(self):     #it is called as a default constructor as it has only self parameter in it. Even if we dnt call it, python will call the init constructor when the object is created.\n",
        "\n",
        "my_class=ClassName()          #creating an object which is also called as an instance of class,  variable=classname() these () are used to call a constructor"
      ]
    },
    {
      "cell_type": "markdown",
      "source": [
        "init (initialization) function is a constructor which is always executed when a class is created It is created using a keyword called 'def' after the class. Even if we dont initialize it it will automatically get invoked/executed when an object is created.\n",
        "\n",
        "Self - It will always take an argument or a parameter \"self\" reference. The self parameter is a reference to the current instance of a class and is used to access variables that belongs to the class"
      ],
      "metadata": {
        "id": "3X67dXtvgUpO"
      }
    },
    {
      "cell_type": "code",
      "source": [
        "class Sample():\n",
        "  def __init__(self, name):      #parameterised constructor, which has other than self parameter in it\n",
        "    self.name=name        #it means every object will have diffrent name/value, self is an object reference\n",
        "    print(\"Adding samples to the database\")\n",
        "\n",
        "s1=Sample(\"Karan\")\n",
        "print(s1.name)\n",
        "\n",
        "s2=Sample(\"Arjun\")\n",
        "print(s2.name)\n"
      ],
      "metadata": {
        "id": "kqo0TTRXk6KS",
        "colab": {
          "base_uri": "https://localhost:8080/"
        },
        "outputId": "143ac190-62f8-48ad-d85a-57113fb2810a"
      },
      "execution_count": null,
      "outputs": [
        {
          "output_type": "stream",
          "name": "stdout",
          "text": [
            "Adding samples to the database\n",
            "Karan\n",
            "Adding samples to the database\n",
            "Arjun\n"
          ]
        }
      ]
    },
    {
      "cell_type": "markdown",
      "source": [
        "Attributes - stores the data. The parameter name is an attribute in the above code.\n",
        "\n",
        "There are 2 types of Attributes. CLass Attribute and Object attribute. Class attribute will be same for all the objects but object attribute can be different for all the objects.\n",
        "\n",
        "Object occupies space in the memory. Hence if we have same value for all the objects we make it as class attribute.\n",
        "\n",
        "object attr precedence is > the class attr"
      ],
      "metadata": {
        "id": "hRYmvpNflXvB"
      }
    },
    {
      "cell_type": "code",
      "source": [
        "class Dog():\n",
        "  type=\"mammal\"     #class instance which is same for all the objects, it will be stored just once in the memory for any number of objects\n",
        "  def __init__(self,breed):\n",
        "   self.breed=breed\n",
        "\n",
        "my_dog=Dog(\"Lab\")\n",
        "\n",
        "print(my_dog.breed)\n",
        "my_dog.type      #or we can callby using class name eg - Dog.type\n",
        "Dog.type"
      ],
      "metadata": {
        "id": "IYXQZzcTpDU9",
        "colab": {
          "base_uri": "https://localhost:8080/",
          "height": 53
        },
        "outputId": "04854ab5-a206-48f8-a220-e60b11ece196"
      },
      "execution_count": null,
      "outputs": [
        {
          "output_type": "stream",
          "name": "stdout",
          "text": [
            "Lab\n"
          ]
        },
        {
          "output_type": "execute_result",
          "data": {
            "text/plain": [
              "'mammal'"
            ],
            "application/vnd.google.colaboratory.intrinsic+json": {
              "type": "string"
            }
          },
          "metadata": {},
          "execution_count": 15
        }
      ]
    },
    {
      "cell_type": "code",
      "source": [
        "class Dogs():\n",
        "  def __init__(self,name,breed,spots):\n",
        "    self.name=name\n",
        "    self.breed=breed\n",
        "    self.spots=spots\n",
        "\n",
        "my_dogs=Dogs(\"Aashu\", \"Mishra\", \"No\")\n",
        "type(my_dogs)\n",
        "print(my_dogs.name)\n",
        "print(my_dogs.breed)\n",
        "print(\"has\", my_dogs.spots, \"hair\")"
      ],
      "metadata": {
        "id": "1epVChiqrTM7",
        "colab": {
          "base_uri": "https://localhost:8080/"
        },
        "outputId": "7004ea4d-e612-4b12-8e55-da358638ae19"
      },
      "execution_count": null,
      "outputs": [
        {
          "output_type": "stream",
          "name": "stdout",
          "text": [
            "Aashu\n",
            "Mishra\n",
            "has No hair\n"
          ]
        }
      ]
    },
    {
      "cell_type": "markdown",
      "source": [
        "WAP to find the circumference and area of a circle by creating the methods area and circumference.\n",
        "\n",
        "***Methods are the functions that belongs to objects, defined inside the body of the class and they are used to perform operations that sometimes utilize the actual attributes of the object we create. ***"
      ],
      "metadata": {
        "id": "AM8Wc2RnfA3o"
      }
    },
    {
      "cell_type": "code",
      "source": [
        "class Circle():\n",
        " pi=3.14\n",
        " def __init__(self, radius):\n",
        "    self.radius=radius\n",
        "\n",
        "#creating a method\n",
        " def Circumference(self):\n",
        "   return 2*self.pi * self.radius\n",
        "\n",
        " def Circle_area(self):\n",
        "   return self.pi*self.radius*self.radius\n",
        "\n",
        "my_circle=Circle(5)\n",
        "\n",
        "my_circle.Circle_area()\n"
      ],
      "metadata": {
        "colab": {
          "base_uri": "https://localhost:8080/"
        },
        "id": "RCBZXudbe5Cg",
        "outputId": "bfe59dac-0167-43f8-a632-ec0bdc0c07f9"
      },
      "execution_count": null,
      "outputs": [
        {
          "output_type": "execute_result",
          "data": {
            "text/plain": [
              "78.5"
            ]
          },
          "metadata": {},
          "execution_count": 52
        }
      ]
    },
    {
      "cell_type": "code",
      "source": [
        "my_circle.Circumference()"
      ],
      "metadata": {
        "colab": {
          "base_uri": "https://localhost:8080/"
        },
        "id": "FdDYZzeNhD_5",
        "outputId": "0bd7c847-838e-4ca9-d106-1abdd881c036"
      },
      "execution_count": null,
      "outputs": [
        {
          "output_type": "execute_result",
          "data": {
            "text/plain": [
              "31.400000000000002"
            ]
          },
          "metadata": {},
          "execution_count": 53
        }
      ]
    },
    {
      "cell_type": "code",
      "source": [
        "#WAP by creating methods\n",
        "\n",
        "class Student: #its a class\n",
        "  def __init__(self,name, marks): #its a constructor\n",
        "    self.name=name        #self is a reference\n",
        "    self.marks=marks\n",
        "\n",
        "  def welcome(self):         #its a method\n",
        "   print(\"Welcome student\", self.name)\n",
        "\n",
        "  def get_marks(self):\n",
        "    return self.marks\n",
        "\n",
        "my_student=Student(\"Karan\", 95) #it is an object\n",
        "my_student.welcome()\n",
        "print(my_student.get_marks())"
      ],
      "metadata": {
        "colab": {
          "base_uri": "https://localhost:8080/"
        },
        "id": "K4caRVKjT73h",
        "outputId": "e40bd04b-835d-4a95-aabb-28a5cc8b0e72"
      },
      "execution_count": null,
      "outputs": [
        {
          "output_type": "stream",
          "name": "stdout",
          "text": [
            "Welcome student Karan\n",
            "95\n"
          ]
        }
      ]
    },
    {
      "cell_type": "code",
      "source": [
        "#Create student class that takes name and marks of 3 subjects as arguments/parameters in constructor and create a method to find the avg.\n",
        "\n",
        "class Students:\n",
        "  def __init__(self, name, marks):\n",
        "    self.name=name\n",
        "    self.marks=marks\n",
        "\n",
        "  def avg(self):\n",
        "      sum = 0\n",
        "      for i in self.marks:\n",
        "          sum += i\n",
        "      print(\"hi\", self.name, \"your avg marks are\", sum/3)\n",
        "\n",
        "score=Students(\"Pooja\", [98,98,98]) #passing the marks values as a list\n",
        "score.avg()"
      ],
      "metadata": {
        "colab": {
          "base_uri": "https://localhost:8080/"
        },
        "id": "5reZaRBlX7AK",
        "outputId": "878e2589-7dad-4b94-c0b6-fa867aae4791"
      },
      "execution_count": null,
      "outputs": [
        {
          "output_type": "stream",
          "name": "stdout",
          "text": [
            "hi Pooja your avg marks are 98.0\n"
          ]
        }
      ]
    },
    {
      "cell_type": "code",
      "source": [
        "#creating a base class - Animal without any attributes\n",
        "\n",
        "class Animal():\n",
        "  def __init__(self):\n",
        "    print(\"Animal class Created\")\n",
        "\n",
        "#creating main class methods below\n",
        "  def who_am_I(self):\n",
        "    print(\"I am an Animal\")\n",
        "\n",
        "  def eat(self):\n",
        "    print(\"I am eating\")\n",
        "\n",
        "my_animal=Animal()\n",
        "my_animal.eat()\n",
        "my_animal.who_am_I()\n",
        "\n",
        "#Now creating  a derived class\n",
        "\n",
        "class Dog(Animal):             #parent class - Animal\n",
        " def __init__(self):\n",
        "  Animal.__init__(self)\n",
        "print(\"Dog created\")\n",
        "\n",
        "my_dog=Dog()\n",
        "\n",
        "\n",
        "\n",
        "\n"
      ],
      "metadata": {
        "colab": {
          "base_uri": "https://localhost:8080/"
        },
        "id": "IwYpfgMFjaCK",
        "outputId": "a4afbfdc-ad6c-4482-b078-71ba0bf8d72a"
      },
      "execution_count": null,
      "outputs": [
        {
          "output_type": "stream",
          "name": "stdout",
          "text": [
            "Animal class Created\n",
            "I am eating\n",
            "I am an Animal\n",
            "Dog created\n",
            "Animal class Created\n"
          ]
        }
      ]
    },
    {
      "cell_type": "markdown",
      "source": [
        "Types of methods -\n",
        "\n",
        "Static method - which does not change any objects or attributes of the class.\n",
        "\n",
        "Instance method - which uses the self parameter.\n",
        "\n",
        "Class method - uses cls as an implicit reference, is used to access the class parameters.\n",
        "\n"
      ],
      "metadata": {
        "id": "L_y3L08jr81q"
      }
    },
    {
      "cell_type": "code",
      "source": [
        "#Static mthods - Methods that dont use the self parameter or any attributes are called Static methods. Works at class level. Methods for which an object creation is not needed we create those methods by using a keyword called @staticmethod. It wont be created again and again fr objects, attributes etc.\n",
        "\n",
        "class Animals():\n",
        " def __init__(self,name):\n",
        "  self.name=name\n",
        "\n",
        " @staticmethod        #it is a decorator - which allowsus to wrap another function to extend the behaviour of the wrapped function without permanently modifying it, which takes function in parameter nd output also\n",
        " def hello():\n",
        "  print(\"Hello\")\n",
        "\n",
        "s1=Animals(\"Dog\")\n",
        "s1.name\n",
        "s1.hello()"
      ],
      "metadata": {
        "colab": {
          "base_uri": "https://localhost:8080/"
        },
        "id": "ujNKx9Mbelgb",
        "outputId": "cbe63187-362a-406b-ed39-395c5f70d024"
      },
      "execution_count": null,
      "outputs": [
        {
          "output_type": "stream",
          "name": "stdout",
          "text": [
            "Hello\n"
          ]
        }
      ]
    },
    {
      "cell_type": "markdown",
      "source": [
        "Classmethod - A class method is bound to the class and receives the class as an implicit 1st argument.\n",
        "\n",
        "Note - Static method cant change or modify the class state and generally for utility."
      ],
      "metadata": {
        "id": "VnTaI2uwjzWp"
      }
    },
    {
      "cell_type": "code",
      "source": [
        "class Person():\n",
        "  name=\"Anonymous\"\n",
        "\n",
        "  def changeName(self, name):\n",
        "   #self.name=name                 #this wont change the name in the class, hence to have the name change in the class attribute we cause the below method\n",
        "   #erson.name=name\n",
        "   self.__class__.name    #An other way to access classmethod\n",
        "   self.__class__.name=\"Rahul\"        #An other way to give new name\n",
        "\n",
        "p1=Person()\n",
        "p1.changeName(\"Rahul\")\n",
        "print(p1.name)\n",
        "print(Person.name)\n"
      ],
      "metadata": {
        "colab": {
          "base_uri": "https://localhost:8080/"
        },
        "id": "oKwWTXlUj1_a",
        "outputId": "19d35df2-84e0-423b-9112-c4eaafab9170"
      },
      "execution_count": null,
      "outputs": [
        {
          "output_type": "stream",
          "name": "stdout",
          "text": [
            "Rahul\n",
            "Rahul\n"
          ]
        }
      ]
    },
    {
      "cell_type": "markdown",
      "source": [
        "An alternate way by using classmethod"
      ],
      "metadata": {
        "id": "ltleGvQYqOSL"
      }
    },
    {
      "cell_type": "code",
      "source": [
        "class Persons():\n",
        "  name=\"Anonymous\"\n",
        "\n",
        "  @classmethod\n",
        "  def changeName(cls,name):\n",
        "   cls.name=name\n",
        "\n",
        "p3=Persons()\n",
        "p3.changeName(\"Pooja\")\n",
        "print(p3.name)\n",
        "print(Persons.name)"
      ],
      "metadata": {
        "colab": {
          "base_uri": "https://localhost:8080/"
        },
        "id": "wzBARSCvqTyD",
        "outputId": "092e752b-06b9-4d21-92c9-e8070eff7576"
      },
      "execution_count": null,
      "outputs": [
        {
          "output_type": "stream",
          "name": "stdout",
          "text": [
            "Pooja\n",
            "Pooja\n"
          ]
        }
      ]
    },
    {
      "cell_type": "markdown",
      "source": [
        "Pillars of Object oriented programing\n",
        "\n",
        "Abstraction - Hiding the implentation details of a class and showing only the essential features to the user.\n",
        "\n",
        "Encapsulation - Wrapping data and function in a single unit(object)"
      ],
      "metadata": {
        "id": "EQasxYTHnFf7"
      }
    },
    {
      "cell_type": "code",
      "source": [
        "#Abstraction\n",
        "\n",
        "class Car():\n",
        "  def __init__(self):\n",
        "    self.acc=False\n",
        "    self.brk=False\n",
        "    self.clutch=False\n",
        "\n",
        "  def start(self):\n",
        "    self.acc=True\n",
        "    self.clutch=True\n",
        "print(\"Car started\")\n",
        "\n",
        "car1=Car()\n",
        "car1.start()"
      ],
      "metadata": {
        "colab": {
          "base_uri": "https://localhost:8080/"
        },
        "id": "18_TZnyhnUMR",
        "outputId": "08be5d26-89c1-4812-c0f7-ec1acadfdf30"
      },
      "execution_count": null,
      "outputs": [
        {
          "output_type": "stream",
          "name": "stdout",
          "text": [
            "Car started\n"
          ]
        }
      ]
    },
    {
      "cell_type": "markdown",
      "source": [
        "Practice - Create Class with 2 attributes - balance and account number, create method for debit, credit and to print the balance\n"
      ],
      "metadata": {
        "id": "Z1HFWtbiqI1n"
      }
    },
    {
      "cell_type": "code",
      "source": [
        "class BankAccount():\n",
        "  def __init__(self, bal, acc_num):\n",
        "    self.bal=bal\n",
        "    self.acc_num=acc_num\n",
        "\n",
        "  def debit(self, debit_amount):\n",
        "    if self.bal > debit_amount:\n",
        "       self.bal -= debit_amount\n",
        "       print(\"Rs\", debit_amount, \"was debited\")\n",
        "       print(\"Total balance is\", self.balance())\n",
        "\n",
        "    else:\n",
        "       return False\n",
        "\n",
        "  def credit(self, cred_amount):\n",
        "     self.bal+= cred_amount\n",
        "     print(\"Credited amount is Rs. \", cred_amount)\n",
        "     print(\"Total balance is Rs.\", self.balance())\n",
        "\n",
        "  def balance(self):\n",
        "    return self.bal\n",
        "\n",
        "account=BankAccount(5000, 1234)\n",
        "print(\"The available balance is Rs\", account.bal)\n",
        "\n",
        "account.debit(1000)\n",
        "account.credit(5000)\n",
        "\n",
        "\n",
        "\n",
        "\n"
      ],
      "metadata": {
        "colab": {
          "base_uri": "https://localhost:8080/"
        },
        "id": "L647bHfwsuau",
        "outputId": "92bace89-4b4c-420f-b4f9-4ac8a12f8c72"
      },
      "execution_count": null,
      "outputs": [
        {
          "output_type": "stream",
          "name": "stdout",
          "text": [
            "The available balance is Rs 5000\n",
            "Rs 1000 was debited\n",
            "Total balance is 4000\n",
            "Credited amount is Rs.  5000\n",
            "Total balance is Rs. 9000\n"
          ]
        }
      ]
    },
    {
      "cell_type": "markdown",
      "source": [
        "del keyword - it is used to delete object properties thst means the entire object"
      ],
      "metadata": {
        "id": "5yZY3wzh1Kof"
      }
    },
    {
      "cell_type": "code",
      "source": [
        "class Stud():\n",
        "  def __init__(self, name):\n",
        "    self.name=name\n",
        "\n",
        "s1=Stud(\"Pooja\")\n",
        "print(s1.name)  #it will get executed\n",
        "\n",
        "del s1.name\n",
        "print(s1.name)       #As s1 object is deleted it will throw an error stating s1 is not defined"
      ],
      "metadata": {
        "colab": {
          "base_uri": "https://localhost:8080/",
          "height": 193
        },
        "id": "OhEkX7461zFL",
        "outputId": "498b7035-0ba4-4292-b8c8-1e1309220c02"
      },
      "execution_count": null,
      "outputs": [
        {
          "output_type": "stream",
          "name": "stdout",
          "text": [
            "Pooja\n"
          ]
        },
        {
          "output_type": "error",
          "ename": "AttributeError",
          "evalue": "'Stud' object has no attribute 'name'",
          "traceback": [
            "\u001b[0;31m---------------------------------------------------------------------------\u001b[0m",
            "\u001b[0;31mAttributeError\u001b[0m                            Traceback (most recent call last)",
            "\u001b[0;32m<ipython-input-113-c016d997e938>\u001b[0m in \u001b[0;36m<cell line: 9>\u001b[0;34m()\u001b[0m\n\u001b[1;32m      7\u001b[0m \u001b[0;34m\u001b[0m\u001b[0m\n\u001b[1;32m      8\u001b[0m \u001b[0;32mdel\u001b[0m \u001b[0ms1\u001b[0m\u001b[0;34m.\u001b[0m\u001b[0mname\u001b[0m\u001b[0;34m\u001b[0m\u001b[0;34m\u001b[0m\u001b[0m\n\u001b[0;32m----> 9\u001b[0;31m \u001b[0mprint\u001b[0m\u001b[0;34m(\u001b[0m\u001b[0ms1\u001b[0m\u001b[0;34m.\u001b[0m\u001b[0mname\u001b[0m\u001b[0;34m)\u001b[0m       \u001b[0;31m#As s1 object is deleted it will throw an error stating s1 is not defined\u001b[0m\u001b[0;34m\u001b[0m\u001b[0;34m\u001b[0m\u001b[0m\n\u001b[0m",
            "\u001b[0;31mAttributeError\u001b[0m: 'Stud' object has no attribute 'name'"
          ]
        }
      ]
    },
    {
      "cell_type": "markdown",
      "source": [
        "Private attributes and methods are meant to be used only within the class and are not accessible outside the class."
      ],
      "metadata": {
        "id": "OfUXzDUl2x7G"
      }
    },
    {
      "cell_type": "code",
      "source": [
        "class Bank():\n",
        "  def __init__(self, acc_num, acc_pass):\n",
        "    self.acc_num=acc_num\n",
        "    self.__acc_pass=acc_pass     #to make it Private we use __ symbol\n",
        "\n",
        "  def password(self):\n",
        "   print(self.__acc_pass)\n",
        "\n",
        "acc1=Bank(12345, \"abcde\")\n",
        "print(acc1.acc_num)\n",
        "#print(acc1.__acc_pass)      #it means we cannot access it outside of a class\n",
        "print(acc1.password())       #here we can access the mathod attribute as it was created inside a class"
      ],
      "metadata": {
        "colab": {
          "base_uri": "https://localhost:8080/"
        },
        "id": "mW_cre_W4M5-",
        "outputId": "902b2446-6fda-4bf4-d44d-c71d91c77d08"
      },
      "execution_count": null,
      "outputs": [
        {
          "output_type": "stream",
          "name": "stdout",
          "text": [
            "12345\n",
            "abcde\n",
            "None\n"
          ]
        }
      ]
    },
    {
      "cell_type": "code",
      "source": [
        "class Person():\n",
        " __name=\"Anonymous\"       #private attribute inside a class\n",
        "\n",
        " def __hello(self):\n",
        "  print(\"hello user\")\n",
        "\n",
        "p1=Person()\n",
        "p1.__hello()    #it throws an error as we are trying to access outside of a class"
      ],
      "metadata": {
        "colab": {
          "base_uri": "https://localhost:8080/",
          "height": 335
        },
        "id": "7t9Wl_8o7rOK",
        "outputId": "6917264e-56a9-44ea-a4d0-ac6ea6874875"
      },
      "execution_count": null,
      "outputs": [
        {
          "output_type": "error",
          "ename": "AttributeError",
          "evalue": "'Person' object has no attribute 'welcome'",
          "traceback": [
            "\u001b[0;31m---------------------------------------------------------------------------\u001b[0m",
            "\u001b[0;31mAttributeError\u001b[0m                            Traceback (most recent call last)",
            "\u001b[0;32m<ipython-input-130-3cfec726d0fa>\u001b[0m in \u001b[0;36m<cell line: 11>\u001b[0;34m()\u001b[0m\n\u001b[1;32m      9\u001b[0m \u001b[0;34m\u001b[0m\u001b[0m\n\u001b[1;32m     10\u001b[0m \u001b[0mp1\u001b[0m\u001b[0;34m=\u001b[0m\u001b[0mPerson\u001b[0m\u001b[0;34m(\u001b[0m\u001b[0;34m)\u001b[0m\u001b[0;34m\u001b[0m\u001b[0;34m\u001b[0m\u001b[0m\n\u001b[0;32m---> 11\u001b[0;31m \u001b[0mp1\u001b[0m\u001b[0;34m.\u001b[0m\u001b[0mwelcome\u001b[0m    \u001b[0;31m#it throws an error as we are trying to access outside of a class\u001b[0m\u001b[0;34m\u001b[0m\u001b[0;34m\u001b[0m\u001b[0m\n\u001b[0m",
            "\u001b[0;31mAttributeError\u001b[0m: 'Person' object has no attribute 'welcome'"
          ]
        },
        {
          "output_type": "error",
          "ename": "AttributeError",
          "evalue": "'Person' object has no attribute '__hello'",
          "traceback": [
            "\u001b[0;31m---------------------------------------------------------------------------\u001b[0m",
            "\u001b[0;31mAttributeError\u001b[0m                            Traceback (most recent call last)",
            "\u001b[0;32m<ipython-input-131-61bda31323e0>\u001b[0m in \u001b[0;36m<cell line: 8>\u001b[0;34m()\u001b[0m\n\u001b[1;32m      6\u001b[0m \u001b[0;34m\u001b[0m\u001b[0m\n\u001b[1;32m      7\u001b[0m \u001b[0mp1\u001b[0m\u001b[0;34m=\u001b[0m\u001b[0mPerson\u001b[0m\u001b[0;34m(\u001b[0m\u001b[0;34m)\u001b[0m\u001b[0;34m\u001b[0m\u001b[0;34m\u001b[0m\u001b[0m\n\u001b[0;32m----> 8\u001b[0;31m \u001b[0mp1\u001b[0m\u001b[0;34m.\u001b[0m\u001b[0m__hello\u001b[0m\u001b[0;34m(\u001b[0m\u001b[0;34m)\u001b[0m    \u001b[0;31m#it throws an error as we are trying to access outside of a class\u001b[0m\u001b[0;34m\u001b[0m\u001b[0;34m\u001b[0m\u001b[0m\n\u001b[0m",
            "\u001b[0;31mAttributeError\u001b[0m: 'Person' object has no attribute '__hello'"
          ]
        }
      ]
    },
    {
      "cell_type": "code",
      "source": [
        "#to access the private method we can create a new method inside the class which can indirectly calls the private method as shown below\n",
        "\n",
        "class Persons():\n",
        " __name=\"Anonymous\"       #private attribute inside a class\n",
        "\n",
        " def __hello(self):       #private method\n",
        "  print(\"hello user\")\n",
        "\n",
        " def welcome(self):       #a public method which is using a private method\n",
        "    self.__hello()\n",
        "\n",
        "p1=Persons()\n",
        "p1.welcome()"
      ],
      "metadata": {
        "colab": {
          "base_uri": "https://localhost:8080/"
        },
        "id": "RHsHsT269EWP",
        "outputId": "906103dd-235c-4e68-862b-6684c461c764"
      },
      "execution_count": null,
      "outputs": [
        {
          "output_type": "stream",
          "name": "stdout",
          "text": [
            "hello user\n"
          ]
        }
      ]
    },
    {
      "cell_type": "markdown",
      "source": [
        "*Inheritance - When one class derives the properties and methods of other class. It is is basically a way to form new classes using classes that have already been defined. Important benefits of inheritance is the ability to re-use the code that you have already worked on. and it reduces the complexity of a program *"
      ],
      "metadata": {
        "id": "lDvmGZ1c-eT-"
      }
    },
    {
      "cell_type": "code",
      "source": [
        "class Car():       #Example of single inheritance\n",
        "  color=\"Black\"\n",
        "  @staticmethod\n",
        "  def start():\n",
        "    print(\"car started\")\n",
        "\n",
        "  @staticmethod\n",
        "  def stop():\n",
        "    print(\"car stopped\")\n",
        "\n",
        "class ToyotaCar(Car):\n",
        "  def __init__(self,name):\n",
        "    self.name=name\n",
        "\n",
        "car1=ToyotaCar(\"Mercedes\")\n",
        "car2=ToyotaCar(\"Prius\")\n",
        "\n",
        "print(car1.name)\n",
        "print(car1.color)\n",
        "print(car2.start())"
      ],
      "metadata": {
        "colab": {
          "base_uri": "https://localhost:8080/"
        },
        "id": "A-HVx4kx-n9I",
        "outputId": "22bd648d-851f-4256-96c3-96aba6756f82"
      },
      "execution_count": null,
      "outputs": [
        {
          "output_type": "stream",
          "name": "stdout",
          "text": [
            "Mercedes\n",
            "Black\n",
            "car started\n",
            "None\n"
          ]
        }
      ]
    },
    {
      "cell_type": "markdown",
      "source": [
        "Types of Inheritance -\n",
        "\n",
        "Single inheritance - Single parent nd child class.\n",
        "Multi class level inheritance - 1 base class and multiple derived class\n",
        "Multiple inheritance - It inherits properties of multiple base classes"
      ],
      "metadata": {
        "id": "GxMsQHO4BZWN"
      }
    },
    {
      "cell_type": "code",
      "source": [
        "# multi level inheritance example\n",
        "\n",
        "class Cars():\n",
        "  @staticmethod\n",
        "  def start():\n",
        "    print(\"car started\")\n",
        "\n",
        "  @staticmethod\n",
        "  def stop():\n",
        "    print(\"car stopped\")\n",
        "\n",
        "class ToyotaCar(Cars):\n",
        "  def __init__(self,brand):\n",
        "   self.brand=brand\n",
        "\n",
        "class Fortuner(ToyotaCar):\n",
        "  def __init__(self,type):\n",
        "   self.type=type\n",
        "\n",
        "cars1=Fortuner(\"Diesel\")\n",
        "cars1.stop()\n",
        "cars1.type"
      ],
      "metadata": {
        "colab": {
          "base_uri": "https://localhost:8080/",
          "height": 53
        },
        "id": "p0da-muFB-Or",
        "outputId": "2046436d-9181-47ad-f00c-a561dd2a269e"
      },
      "execution_count": null,
      "outputs": [
        {
          "output_type": "stream",
          "name": "stdout",
          "text": [
            "car stopped\n"
          ]
        },
        {
          "output_type": "execute_result",
          "data": {
            "text/plain": [
              "'Diesel'"
            ],
            "application/vnd.google.colaboratory.intrinsic+json": {
              "type": "string"
            }
          },
          "metadata": {},
          "execution_count": 159
        }
      ]
    },
    {
      "cell_type": "code",
      "source": [
        "#Example of Multiple inheritance\n",
        "\n",
        "class A:\n",
        "  varA=\"Welcome to class A\"\n",
        "\n",
        "class B:\n",
        "  varB=\"Welcome to class B\"\n",
        "\n",
        "class C(A,B):       #inheriting 2 base classes A and B\n",
        "  varC=\"Welcome to class C\"\n",
        "\n",
        "c1=C()\n",
        "print(c1.varC)\n",
        "print(c1.varA)"
      ],
      "metadata": {
        "colab": {
          "base_uri": "https://localhost:8080/"
        },
        "id": "HxvMczi4dQY8",
        "outputId": "84eb4293-2128-4145-8fb2-deb08d5a5292"
      },
      "execution_count": null,
      "outputs": [
        {
          "output_type": "stream",
          "name": "stdout",
          "text": [
            "Welcome to class C\n",
            "Welcome to class A\n"
          ]
        }
      ]
    },
    {
      "cell_type": "markdown",
      "source": [
        "Super method - super() is used to access methods of the parent/base class"
      ],
      "metadata": {
        "id": "eV5JztF1egKz"
      }
    },
    {
      "cell_type": "code",
      "source": [
        "class Carss():\n",
        "  def __init__(self, type):\n",
        "    self.type=type\n",
        "\n",
        "  @staticmethod\n",
        "  def start():\n",
        "    print(\"Car started\")\n",
        "\n",
        "  @staticmethod\n",
        "  def stop():\n",
        "    print(\"car stopped\")\n",
        "\n",
        "class Toyota(Carss):\n",
        "  def __init__(self, name, type):\n",
        "   super().__init__(type)\n",
        "   super().start()\n",
        "   self.name=name\n",
        "\n",
        "c2=Toyota(\"Prius\", \"electric\")\n",
        "c2.stop()\n",
        "c2.type"
      ],
      "metadata": {
        "colab": {
          "base_uri": "https://localhost:8080/",
          "height": 70
        },
        "id": "UmAayyb2efaQ",
        "outputId": "4a8f981d-d571-4d4e-a22f-18429ec0ba92"
      },
      "execution_count": null,
      "outputs": [
        {
          "output_type": "stream",
          "name": "stdout",
          "text": [
            "Car started\n",
            "car stopped\n"
          ]
        },
        {
          "output_type": "execute_result",
          "data": {
            "text/plain": [
              "'electric'"
            ],
            "application/vnd.google.colaboratory.intrinsic+json": {
              "type": "string"
            }
          },
          "metadata": {},
          "execution_count": 167
        }
      ]
    },
    {
      "cell_type": "markdown",
      "source": [
        "***Property decorator - We use property decorator on any method in the class to use the method as a property.***\n",
        "\n",
        "When an attribute value depends on a function, we make that function a property. If we need to change the value of any attribute we can use property decorator. Property is nothing but an attribute."
      ],
      "metadata": {
        "id": "60feeIgfwLq_"
      }
    },
    {
      "cell_type": "code",
      "source": [
        "class Studs():\n",
        "  def __init__(self, phy,chem,math):\n",
        "    self.phy=phy\n",
        "    self.chem=chem\n",
        "    self.math=math\n",
        "    self.percentage=str((self.phy+self.chem+self.math)/3) + \"%\"\n",
        "\n",
        "studs1=Studs(98,96,97)\n",
        "studs1.percentage\n",
        "\n",
        "studs1.phy=86\n",
        "studs1.percentage     #now even if we change the value of any parameter, the percentage value remains same, to correctthat we can create a new method or we can use a property decorator as below"
      ],
      "metadata": {
        "colab": {
          "base_uri": "https://localhost:8080/",
          "height": 35
        },
        "id": "8uQzYpVbyP2q",
        "outputId": "f8fd3e21-0786-471f-ca44-f2a7e6a9de30"
      },
      "execution_count": 3,
      "outputs": [
        {
          "output_type": "execute_result",
          "data": {
            "text/plain": [
              "'97.0%'"
            ],
            "application/vnd.google.colaboratory.intrinsic+json": {
              "type": "string"
            }
          },
          "metadata": {},
          "execution_count": 3
        }
      ]
    },
    {
      "cell_type": "code",
      "source": [
        "class Studs():\n",
        "  def __init__(self, phy,chem,math):\n",
        "    self.phy=phy\n",
        "    self.chem=chem\n",
        "    self.math=math\n",
        "\n",
        " # def percentage(self): #this is one of the way by creating a method\n",
        "  # str((self.phy+self.chem+self.math)/3) + \"%\"\n",
        "\n",
        "  @property        #by using property decorator\n",
        "  def percentage(self):\n",
        "   return str((self.phy+self.chem+self.math)/3) + \"%\"\n",
        "\n",
        "studs1=Studs(98,96,97)\n",
        "studs1.percentage        #percentage before changing the value\n",
        "\n",
        "studs1.phy=95\n",
        "print(studs1.phy)\n",
        "#studs1.percentage()\n",
        "studs1.percentage          #percentage after changing the value"
      ],
      "metadata": {
        "colab": {
          "base_uri": "https://localhost:8080/",
          "height": 53
        },
        "id": "Uhhrz-Tx0Jj4",
        "outputId": "b176b133-27e1-4e73-8e4e-b72c3f71895b"
      },
      "execution_count": 16,
      "outputs": [
        {
          "output_type": "stream",
          "name": "stdout",
          "text": [
            "95\n"
          ]
        },
        {
          "output_type": "execute_result",
          "data": {
            "text/plain": [
              "'96.0%'"
            ],
            "application/vnd.google.colaboratory.intrinsic+json": {
              "type": "string"
            }
          },
          "metadata": {},
          "execution_count": 16
        }
      ]
    },
    {
      "cell_type": "markdown",
      "source": [
        "Polymorphism - When the same operator is allowed to have different meaning based on the content like + can be used as an addition operator and concatination of strings.\n",
        "\n",
        "Operator overloading"
      ],
      "metadata": {
        "id": "ajGIS8Mn2_zp"
      }
    },
    {
      "cell_type": "code",
      "source": [
        "class Complex:\n",
        "  def __init__(self, real, img):\n",
        "    self.real=real\n",
        "    self.img=img\n",
        "\n",
        "  def shownumber(self):\n",
        "      print(self.real, \"i+\", self.img, \"j\")\n",
        "\n",
        "  def __add__(self, num2):\n",
        "    newReal=self.real+num2.real\n",
        "    newImg=self.img+num2.img\n",
        "    return Complex(newReal, newImg)\n",
        "\n",
        "  def __add__(self, num2):\n",
        "   newReal=self.real+num2.real\n",
        "   newImg=self.img+num2.img\n",
        "   return Complex(newReal, newImg)\n",
        "\n",
        "num1=Complex(1,3)\n",
        "num1.shownumber()\n",
        "\n",
        "num2=Complex(5,6)\n",
        "num2.shownumber()\n",
        "\n",
        "#num3=num1.add(num2)\n",
        "num3=num1+num2 #if we use this function without having a dunder function i.e, __add__ it throw an error\n",
        "num3.shownumber()\n",
        ""
      ],
      "metadata": {
        "colab": {
          "base_uri": "https://localhost:8080/"
        },
        "id": "UClRZ_IUHnaz",
        "outputId": "bc204b73-44a2-4249-efed-c8040d359217"
      },
      "execution_count": 34,
      "outputs": [
        {
          "output_type": "stream",
          "name": "stdout",
          "text": [
            "1 i+ 3 j\n",
            "5 i+ 6 j\n",
            "6 i+ 9 j\n"
          ]
        }
      ]
    },
    {
      "cell_type": "markdown",
      "source": [
        "Practise - Creating a Circle class with radius as a constructor, define an area() which calculates the area of the circle and find the perimeter of the class"
      ],
      "metadata": {
        "id": "PEO9N4wLRo1e"
      }
    },
    {
      "cell_type": "code",
      "source": [
        "class Circle():\n",
        "  pi=3.14\n",
        "  def __init__(self, radius):\n",
        "    self.radius=radius\n",
        "\n",
        "  def area(self):\n",
        "    return 3.14*self.radius*self.radius\n",
        "\n",
        "  def perimeter(self):\n",
        "    return 2*self.pi*self.radius\n",
        "\n",
        "cir=Circle(5)\n",
        "cir.area()\n",
        "cir.perimeter()\n"
      ],
      "metadata": {
        "colab": {
          "base_uri": "https://localhost:8080/"
        },
        "id": "4hL4WlwnR8ge",
        "outputId": "d9f89765-3227-4013-b956-b95dbe58b93e"
      },
      "execution_count": 39,
      "outputs": [
        {
          "output_type": "execute_result",
          "data": {
            "text/plain": [
              "31.400000000000002"
            ]
          },
          "metadata": {},
          "execution_count": 39
        }
      ]
    },
    {
      "cell_type": "markdown",
      "source": [
        "Practice - Define a Employee class with attributes role, department and salary which has showdetails method to print the details. Create a class Engineer who inherits Employee class and which has its own attributes Name and age."
      ],
      "metadata": {
        "id": "pE9D0P-XTzl0"
      }
    },
    {
      "cell_type": "code",
      "source": [
        "class Employee():\n",
        "  def __init__(self, role, dept, salary):\n",
        "    self.role=role\n",
        "    self.dept=dept\n",
        "    self.salary=salary\n",
        "\n",
        "  def showDetails(self):\n",
        "    print(\"role =\", self.role)\n",
        "    print(\"dept =\", self.dept)\n",
        "    print(\"salary =\", self.salary)\n",
        "\n",
        "\n",
        "class Engineer(Employee):\n",
        "  def __init__(self, name, age):\n",
        "    self.name=name\n",
        "    self.age=age\n",
        "    super().__init__(\"Engineer\", \"IT\", \"75,000\")          #accessing attributes of super class\n",
        "\n",
        "\n",
        "eng1=Engineer(\"Pooja\", 30)\n",
        "eng1.showDetails()\n",
        "print(eng1.name)\n",
        "eng1.age"
      ],
      "metadata": {
        "colab": {
          "base_uri": "https://localhost:8080/"
        },
        "id": "lYU4vBX-VsZU",
        "outputId": "b3bd3f7e-bcb4-490c-b774-82513916b7c7"
      },
      "execution_count": 61,
      "outputs": [
        {
          "output_type": "stream",
          "name": "stdout",
          "text": [
            "role = Engineer\n",
            "dept = IT\n",
            "salary = 75,000\n",
            "Pooja\n"
          ]
        },
        {
          "output_type": "execute_result",
          "data": {
            "text/plain": [
              "30"
            ]
          },
          "metadata": {},
          "execution_count": 61
        }
      ]
    },
    {
      "cell_type": "markdown",
      "source": [
        "Create a class order which stores items and its price. Use dunder function __gt__ to check ord1 price > order 2 price"
      ],
      "metadata": {
        "id": "q7uJKobKf5xb"
      }
    },
    {
      "cell_type": "code",
      "source": [
        "class Order():\n",
        "  def __init__(self, item, price):\n",
        "    self.item=item\n",
        "    self.price=price\n",
        "\n",
        "  def __gt__(self, ord2):\n",
        "    return  self.price > ord2.price\n",
        "\n",
        "ord1=Order(\"Bread\", 20)\n",
        "ord2=Order(\"Milk\", 30)\n",
        "print(ord1>ord2)"
      ],
      "metadata": {
        "colab": {
          "base_uri": "https://localhost:8080/"
        },
        "id": "w8gTfCO0gCM_",
        "outputId": "c6988c39-8317-4b10-e303-66296899db55"
      },
      "execution_count": 67,
      "outputs": [
        {
          "output_type": "stream",
          "name": "stdout",
          "text": [
            "False\n"
          ]
        }
      ]
    }
  ]
}